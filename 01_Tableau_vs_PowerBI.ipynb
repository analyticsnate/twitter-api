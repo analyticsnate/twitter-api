{
 "cells": [
  {
   "cell_type": "code",
   "execution_count": 1,
   "metadata": {},
   "outputs": [
    {
     "name": "stdout",
     "output_type": "stream",
     "text": [
      "01_Tableau_vs_PowerBI starting.\n"
     ]
    }
   ],
   "source": [
    "print('01_Tableau_vs_PowerBI starting.')"
   ]
  },
  {
   "cell_type": "code",
   "execution_count": 2,
   "metadata": {},
   "outputs": [
    {
     "name": "stdout",
     "output_type": "stream",
     "text": [
      "Packages imported.\n",
      "\n"
     ]
    }
   ],
   "source": [
    "# who needs warnings?\n",
    "import warnings\n",
    "warnings.filterwarnings(\"ignore\")\n",
    "\n",
    "# api packages\n",
    "import pyTwitter\n",
    "twitter = pyTwitter.TwitterAPI()\n",
    "\n",
    "# data packages\n",
    "import pandas as pd\n",
    "from datetime import datetime\n",
    "import numpy as np\n",
    "import matplotlib.pyplot as plt\n",
    "from matplotlib.pyplot import figure\n",
    "\n",
    "print('Packages imported.\\n')"
   ]
  },
  {
   "cell_type": "code",
   "execution_count": 3,
   "metadata": {},
   "outputs": [
    {
     "name": "stdout",
     "output_type": "stream",
     "text": [
      "Pulling #Tableau tweets.\n",
      "| 24 complete | 40.373 seconds elapsed |      \n",
      "Dataframe for #Tableau set up.\n",
      "\n",
      "Pulling #PowerBI tweets.\n",
      "| 33 complete | 54.9581 seconds elapsed |     \n",
      "Dataframe for #PowerBI set up.\n",
      "\n"
     ]
    }
   ],
   "source": [
    "# set starting date\n",
    "start_dt = datetime(2019, 2, 16)\n",
    "\n",
    "# pull tweets for #Tableau\n",
    "print('Pulling #Tableau tweets.')\n",
    "tab = twitter.get_tweets_since('#Tableau', start_dt)\n",
    "tab['day'] = tab.apply(twitter.get_day, axis=1)\n",
    "tab = tab[tab['day'] > 20]\n",
    "tab['search_term'] = '#Tableau'\n",
    "print('\\nDataframe for #Tableau set up.\\n')\n",
    "\n",
    "# pull tweets for #PowerBI\n",
    "print('Pulling #PowerBI tweets.')\n",
    "pbi = twitter.get_tweets_since('#PowerBI', start_dt)\n",
    "pbi['day'] = pbi.apply(twitter.get_day, axis=1)\n",
    "pbi = pbi[pbi['day'] > 20]\n",
    "pbi['search_term'] = '#PowerBI'\n",
    "print('\\nDataframe for #PowerBI set up.\\n')\n",
    "\n",
    "# save all data to a tab seperated csv\n",
    "pd.concat([tab, pbi]).to_csv('tab_vs_pbi.csv', sep='\\t')"
   ]
  },
  {
   "cell_type": "code",
   "execution_count": 4,
   "metadata": {},
   "outputs": [
    {
     "name": "stdout",
     "output_type": "stream",
     "text": [
      "Defining chart.\n"
     ]
    }
   ],
   "source": [
    "print('Defining chart.')\n",
    "def get_xy(df):\n",
    "    data = df.groupby(by=['day'])['day'].count()\n",
    "    data_dict = data.to_dict()\n",
    "    x = list(data_dict.keys())\n",
    "    y = list(data_dict.values())\n",
    "    return x, y\n",
    "    \n",
    "def build_dual_bar_chart(df1, df2, search_term, dt):\n",
    "    figure(num=None, figsize=(12, 6), dpi=80, frameon=False\n",
    "           , edgecolor='#ffffff', facecolor='#1a2028', linewidth=10)\n",
    "    ax = plt.subplot()\n",
    "    xy = get_xy(df1)\n",
    "    xy2 = get_xy(df2)\n",
    "    x2  = []\n",
    "    for n in get_xy(df2)[0]:\n",
    "        x2.append(n + .35)\n",
    "    p1 = ax.bar(xy[0], xy[1], color = '#4c75a2', width = 0.35)\n",
    "    rects = p1.patches\n",
    "    for rect, label in zip(rects, xy[1]):\n",
    "        height = rect.get_height()\n",
    "        ax.text(rect.get_x() + rect.get_width() / 2, height + 5, label,\n",
    "                ha='center', va='bottom', color='#4c75a2')\n",
    "        \n",
    "    p2 = ax.bar(x2, xy2[1], color = '#e9c310', width = 0.35)\n",
    "    rects = p2.patches\n",
    "    for rect, label in zip(rects, xy2[1]):\n",
    "        height = rect.get_height()\n",
    "        ax.text(rect.get_x() + rect.get_width() / 2, height + 5, label,\n",
    "                ha='center', va='bottom', color='#e9c310')\n",
    "        \n",
    "    ax.set_facecolor('#1a2028')\n",
    "    plt.title('Tweets for {} since {}'.format(search_term, dt), color='black')\n",
    "    plt.xlabel('Day', color='black')\n",
    "    plt.ylabel('Tweet Count', color='black')\n",
    "    plt.tick_params(axis='x', colors='black')\n",
    "    plt.tick_params(axis='y', colors='black')\n",
    "    plt.xticks()\n",
    "    plt.legend((p1[0], p2[0]), ('#Tableau', '#PowerBI'))"
   ]
  },
  {
   "cell_type": "code",
   "execution_count": 5,
   "metadata": {},
   "outputs": [
    {
     "name": "stdout",
     "output_type": "stream",
     "text": [
      "Building chart.\n",
      "Writing chart file\n",
      "tab_vs_pbi.png saved to local directory.\n"
     ]
    },
    {
     "data": {
      "image/png": "[encoded data removed]",
      "text/plain": [
       "<Figure size 960x480 with 1 Axes>"
      ]
     },
     "metadata": {},
     "output_type": "display_data"
    }
   ],
   "source": [
    "print('Building chart.')\n",
    "build_dual_bar_chart(tab, pbi, '#Tableau vs. #PowerBI', 'Nov. 20, 2018')\n",
    "print('Writing chart file')\n",
    "plt.savefig('tab_vs_pbi.png')\n",
    "print('tab_vs_pbi.png saved to local directory.')\n",
    "plt.show()"
   ]
  },
  {
   "cell_type": "code",
   "execution_count": 6,
   "metadata": {},
   "outputs": [
    {
     "name": "stdout",
     "output_type": "stream",
     "text": [
      "Closing.\n"
     ]
    }
   ],
   "source": [
    "print('Closing.')"
   ]
  },
  {
   "cell_type": "code",
   "execution_count": null,
   "metadata": {},
   "outputs": [],
   "source": []
  }
 ],
 "metadata": {
  "kernelspec": {
   "display_name": "Python 3",
   "language": "python",
   "name": "python3"
  },
  "language_info": {
   "codemirror_mode": {
    "name": "ipython",
    "version": 3
   },
   "file_extension": ".py",
   "mimetype": "text/x-python",
   "name": "python",
   "nbconvert_exporter": "python",
   "pygments_lexer": "ipython3",
   "version": "3.6.7"
  }
 },
 "nbformat": 4,
 "nbformat_minor": 2
}
